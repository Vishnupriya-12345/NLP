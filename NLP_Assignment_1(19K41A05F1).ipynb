{
  "nbformat": 4,
  "nbformat_minor": 0,
  "metadata": {
    "colab": {
      "name": "NLP_Assignment_1(19K41A05F1).ipynb",
      "provenance": [],
      "collapsed_sections": [],
      "authorship_tag": "ABX9TyO8xI2E20wGQm7RzVtOVwnV",
      "include_colab_link": true
    },
    "kernelspec": {
      "name": "python3",
      "display_name": "Python 3"
    },
    "language_info": {
      "name": "python"
    }
  },
  "cells": [
    {
      "cell_type": "markdown",
      "metadata": {
        "id": "view-in-github",
        "colab_type": "text"
      },
      "source": [
        "<a href=\"https://colab.research.google.com/github/Vishnupriya-12345/NLP/blob/main/NLP_Assignment_1(19K41A05F1).ipynb\" target=\"_parent\"><img src=\"https://colab.research.google.com/assets/colab-badge.svg\" alt=\"Open In Colab\"/></a>"
      ]
    },
    {
      "cell_type": "code",
      "execution_count": null,
      "metadata": {
        "id": "cS593Odr03Gt"
      },
      "outputs": [],
      "source": [
        "6th QUESTION: Find (term * Doc) matrix using TF-IDF? And find cosine similarity between DOC 1 and DOC 2?\n",
        "DOC 1: A computer network is a set of computers sharing resources located on or provided by network nodes. The computers use common communication protocols over digital interconnections to communicate with each other.\n",
        "DOC 2: An operating system (OS) is system software that manages computer hardware, software resources, and provides common services for computer programs.Time-sharing operating systems schedule tasks for efficient use of the system and may also include accounting software for cost allocation of processor time, mass storage, printing, and other resources.\n",
        "DOC 3: An operating system (OS) is the program that, after being initially loaded into the computer by a boot program, manages all of the other application programs in a computer. The application programs make use of the operating system by making requests for services through a defined application program interface (API).\n"
      ]
    },
    {
      "cell_type": "code",
      "source": [
        "Doc_1_2_3 = ['A computer network is a set of computers sharing resources located on or provided by network nodes. The computers use common communication protocols over digital interconnections to communicate with each other.',\n",
        "'An operating system (OS) is system software that manages computer hardware, software resources, and provides common services for computer programs. Time-sharing operating systems schedule tasks for efficient use of the system and may also include accounting software for cost allocation of processor time, mass storage, printing, and other resources.',\n",
        "'An operating system (OS) is the program that, after being initially loaded into the computer by a boot program, manages all of the other application programs in a computer. The application programs make use of the operating system by making requests for services through a defined application program interface (API).']\n",
        "\n",
        "Doc_1_2 = ['A computer network is a set of computers sharing resources located on or provided by network nodes. The computers use common communication protocols over digital interconnections to communicate with each other.',\n",
        "'An operating system (OS) is system software that manages computer hardware, software resources, and provides common services for computer programs. Time-sharing operating systems schedule tasks for efficient use of the system and may also include accounting software for cost allocation of processor time, mass storage, printing, and other resources.']"
      ],
      "metadata": {
        "id": "3ErBY9Vq-A1Q"
      },
      "execution_count": 3,
      "outputs": []
    },
    {
      "cell_type": "code",
      "source": [
        "from sklearn.feature_extraction.text import TfidfVectorizer\n",
        "from sklearn.metrics.pairwise import cosine_similarity"
      ],
      "metadata": {
        "id": "mAH6NIih-Qwk"
      },
      "execution_count": 4,
      "outputs": []
    },
    {
      "cell_type": "code",
      "source": [
        "# Initializing  an instance of tf-idf vectorizer\n",
        "tf_idf_vectorizer = TfidfVectorizer()"
      ],
      "metadata": {
        "id": "msx_xNuV_gL7"
      },
      "execution_count": 5,
      "outputs": []
    },
    {
      "cell_type": "code",
      "source": [
        "# Generate the tf-idf vectors for the Documents 1, 2 and 3 printing the shape of the matrix \n",
        "tf_idf_response1 = tf_idf_vectorizer.fit_transform(Doc_1_2_3)\n",
        "print(\"TF-IDF matrix for DOC 1, 2 and  3 : \", tf_idf_response1.shape)\n",
        "print(\"TF-IDF matrix for DOC 1, 2 and  3 : \", tf_idf_response1.todense())"
      ],
      "metadata": {
        "colab": {
          "base_uri": "https://localhost:8080/"
        },
        "id": "Fh61V49q_kks",
        "outputId": "7026b6d4-4477-4c3d-c366-5cf963876f7b"
      },
      "execution_count": 6,
      "outputs": [
        {
          "output_type": "stream",
          "name": "stdout",
          "text": [
            "TF-IDF matrix for DOC 1, 2 and  3 :  (3, 72)\n",
            "TF-IDF matrix for DOC 1, 2 and  3 :  [[0.         0.         0.         0.         0.         0.\n",
            "  0.         0.         0.         0.         0.         0.14527359\n",
            "  0.14527359 0.19101731 0.19101731 0.1128179  0.38203462 0.\n",
            "  0.         0.19101731 0.19101731 0.         0.         0.\n",
            "  0.         0.         0.         0.19101731 0.         0.\n",
            "  0.1128179  0.         0.19101731 0.         0.         0.\n",
            "  0.         0.         0.38203462 0.19101731 0.1128179  0.19101731\n",
            "  0.         0.19101731 0.         0.1128179  0.19101731 0.\n",
            "  0.         0.         0.         0.19101731 0.19101731 0.\n",
            "  0.         0.14527359 0.         0.         0.19101731 0.14527359\n",
            "  0.         0.         0.         0.         0.         0.\n",
            "  0.1128179  0.         0.         0.19101731 0.1128179  0.19101731]\n",
            " [0.12715248 0.         0.         0.12715248 0.12715248 0.09670274\n",
            "  0.38145745 0.         0.         0.         0.         0.\n",
            "  0.09670274 0.         0.         0.15019661 0.         0.12715248\n",
            "  0.         0.         0.         0.12715248 0.29010822 0.12715248\n",
            "  0.         0.12715248 0.         0.         0.         0.\n",
            "  0.0750983  0.         0.         0.         0.         0.09670274\n",
            "  0.12715248 0.12715248 0.         0.         0.15019661 0.\n",
            "  0.19340548 0.         0.09670274 0.0750983  0.         0.12715248\n",
            "  0.12715248 0.         0.09670274 0.         0.         0.12715248\n",
            "  0.         0.19340548 0.12715248 0.09670274 0.         0.09670274\n",
            "  0.38145745 0.12715248 0.29010822 0.12715248 0.12715248 0.09670274\n",
            "  0.0750983  0.         0.25430497 0.         0.0750983  0.        ]\n",
            " [0.         0.13098774 0.13098774 0.         0.         0.09961955\n",
            "  0.         0.13098774 0.39296321 0.13098774 0.13098774 0.1992391\n",
            "  0.         0.         0.         0.15472693 0.         0.\n",
            "  0.13098774 0.         0.         0.         0.09961955 0.\n",
            "  0.13098774 0.         0.13098774 0.         0.13098774 0.13098774\n",
            "  0.07736347 0.13098774 0.         0.13098774 0.13098774 0.09961955\n",
            "  0.         0.         0.         0.         0.15472693 0.\n",
            "  0.1992391  0.         0.09961955 0.07736347 0.         0.\n",
            "  0.         0.39296321 0.1992391  0.         0.         0.\n",
            "  0.13098774 0.         0.         0.09961955 0.         0.\n",
            "  0.         0.         0.1992391  0.         0.         0.09961955\n",
            "  0.38681734 0.13098774 0.         0.         0.07736347 0.        ]]\n"
          ]
        }
      ]
    },
    {
      "cell_type": "code",
      "source": [
        "# Generate the tf-idf vectors for the Documents 1 & 2, print the shape of the matrix and their cosine similarities\n",
        "tf_idf_response2 = tf_idf_vectorizer.fit_transform(Doc_1_2)\n",
        "print(\"TF-IDF Matrix Shape for DOC 1 & 2 : \", tf_idf_response2.shape)\n",
        "cos_sim = cosine_similarity(tf_idf_response2, tf_idf_response2)\n",
        "print(\"cosine similarity matrix Between documents 1 and 2 : \")\n",
        "print(cos_sim)"
      ],
      "metadata": {
        "colab": {
          "base_uri": "https://localhost:8080/"
        },
        "id": "CPVyykKH_oDm",
        "outputId": "a37527e5-0a1b-465e-c822-56ee436826ee"
      },
      "execution_count": 7,
      "outputs": [
        {
          "output_type": "stream",
          "name": "stdout",
          "text": [
            "TF-IDF Matrix Shape for DOC 1 & 2 :  (2, 55)\n",
            "cosine similarity matrix Between documents 1 and 2 : \n",
            "[[1.         0.13117019]\n",
            " [0.13117019 1.        ]]\n"
          ]
        }
      ]
    },
    {
      "cell_type": "markdown",
      "source": [
        ""
      ],
      "metadata": {
        "id": "H7hNk7i_9_BJ"
      }
    }
  ]
}